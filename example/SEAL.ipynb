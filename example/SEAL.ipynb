{
 "cells": [
  {
   "cell_type": "code",
   "execution_count": 27,
   "id": "1b790494",
   "metadata": {},
   "outputs": [],
   "source": [
    "import argparse\n",
    "from codecs import ignore_errors\n",
    "from random import shuffle\n",
    "import time\n",
    "import os, sys, shutil\n",
    "from tqdm import tqdm\n",
    "import numpy as np\n",
    "import scipy.sparse as ssp\n",
    "import networkx as nx\n",
    "from sklearn.metrics import roc_auc_score\n",
    "import torch\n",
    "from torch_geometric.data import Data, Dataset, InMemoryDataset\n",
    "from torch_geometric.loader import DataLoader\n",
    "from ogb.linkproppred import PygLinkPropPredDataset, Evaluator\n",
    "\n",
    "parent_path = os.path.dirname(sys.path[0])\n",
    "if parent_path not in sys.path:\n",
    "    sys.path.append(parent_path)\n",
    "from easylink.common.eval_utils import evaluate_auc\n",
    "from easylink.model.heuristic_similarity import common_neighbors, adamic_adar, resource_allocation, local_path_index\n",
    "from easylink.model.seal import SEAL, SEALDataset\n",
    "from easylink.common.data_utils import load_basic_network, train_test_split\n",
    "from easylink.common.seal_utils import *"
   ]
  },
  {
   "cell_type": "code",
   "execution_count": 2,
   "id": "c544e6f4",
   "metadata": {},
   "outputs": [],
   "source": [
    "@torch.no_grad()\n",
    "def test(dataset, seal, batch_size, evaluator=None):\n",
    "    seal.model.eval()\n",
    "    data_loader = DataLoader(dataset, batch_size)\n",
    "    pbar = tqdm(data_loader, ncols=80)\n",
    "    y_pred, y_true = [], []\n",
    "    for data in pbar:\n",
    "        data = data.to(device)\n",
    "        x = data.x if args.use_feature else None\n",
    "        logits = seal.model(data.z, data.edge_index, data.batch, x)\n",
    "        y_pred.append(logits.view(-1).cpu())\n",
    "        y_true.append(data.y.view(-1).cpu().to(torch.float))\n",
    "    val_pred, val_true = torch.cat(y_pred), torch.cat(y_true)\n",
    "    pos_val_pred = val_pred[val_true==1]\n",
    "    neg_val_pred = val_pred[val_true==0]\n",
    "\n",
    "    result = {}\n",
    "    auc = roc_auc_score(val_true, val_pred)\n",
    "    print(\"AUC:{}\".format(auc))\n",
    "    result['AUC'] = auc\n",
    "\n",
    "    if evaluator is not None:\n",
    "        for K in [20, 50, 100]:\n",
    "            evaluator.K = K\n",
    "            valid_hits = evaluator.eval({\n",
    "                    'y_pred_pos': pos_val_pred,\n",
    "                    'y_pred_neg': neg_val_pred,\n",
    "                })[f'hits@{K}']\n",
    "            result[f'Hits@{K}'] = valid_hits\n",
    "            print(f\"Hits@{K}:{valid_hits}\")\n",
    "\n",
    "    return result"
   ]
  },
  {
   "cell_type": "code",
   "execution_count": 6,
   "id": "2128ad65",
   "metadata": {},
   "outputs": [
    {
     "name": "stdout",
     "output_type": "stream",
     "text": [
      "Namespace(device=0, log_steps=1, dataset='facebook', use_feature=False, num_hops=2, max_nodes_per_hop=10, model='SAGE', sortpool_k=0.6, num_layers=3, hidden_channels=64, batch_size=256, dropout=0.5, lr=0.0001, epochs=5)\n"
     ]
    }
   ],
   "source": [
    "parser = argparse.ArgumentParser(description='SEAL LinkPredictor')\n",
    "parser.add_argument('--device', type=int, default=0)\n",
    "parser.add_argument('--log_steps', type=int, default=1)\n",
    "parser.add_argument('--dataset', type=str, default='ogbl-collab')\n",
    "# DataStructure settings\n",
    "parser.add_argument('--use_feature', action='store_true', \n",
    "                help=\"whether to use raw node features as GNN input\")\n",
    "parser.add_argument('--num_hops', type=int, default=2)\n",
    "parser.add_argument('--max_nodes_per_hop', type=int, default=10)\n",
    "# GNN settings\n",
    "parser.add_argument('--model', type=str, default='SAGE')\n",
    "parser.add_argument('--sortpool_k', type=float, default=0.6)\n",
    "parser.add_argument('--num_layers', type=int, default=3)\n",
    "parser.add_argument('--hidden_channels', type=int, default=64)\n",
    "parser.add_argument('--batch_size', type=int, default=256)\n",
    "parser.add_argument('--dropout', type=float, default=0.5)\n",
    "\n",
    "# Training settings\n",
    "parser.add_argument('--lr', type=float, default=0.0001)\n",
    "parser.add_argument('--epochs', type=int, default=5)\n",
    "args = parser.parse_args(args=['--device', '0', '--dataset', 'facebook'])\n",
    "print(args)"
   ]
  },
  {
   "cell_type": "code",
   "execution_count": 59,
   "id": "3de8b4bf",
   "metadata": {},
   "outputs": [
    {
     "name": "stdout",
     "output_type": "stream",
     "text": [
      "loading file: ../data/facebook/facebook.txt\n",
      "#nodes: 4039 ,#edges: 88234\n",
      "Negative Sampling.\n"
     ]
    }
   ],
   "source": [
    "dataset_root = '../data/facebook'\n",
    "# facebook\n",
    "facebook_dir = dataset_root+'/facebook.txt'\n",
    "g = load_basic_network(facebook_dir)\n",
    "adj = nx.adjacency_matrix(g)\n",
    "train_edges, test_edges, val_edges, train_neg_edges, test_neg_edges, val_neg_edges = train_test_split(adj)"
   ]
  },
  {
   "cell_type": "code",
   "execution_count": 9,
   "id": "8fba6ec1",
   "metadata": {},
   "outputs": [
    {
     "data": {
      "text/plain": [
       "[(0, 148),\n",
       " (741, 1002),\n",
       " (540, 614),\n",
       " (564, 822),\n",
       " (351, 2376),\n",
       " (658, 906),\n",
       " (902, 1371),\n",
       " (2993, 3109),\n",
       " (2487, 2630),\n",
       " (391, 1022)]"
      ]
     },
     "execution_count": 9,
     "metadata": {},
     "output_type": "execute_result"
    }
   ],
   "source": [
    "train_edges[:10]"
   ]
  },
  {
   "cell_type": "code",
   "execution_count": 60,
   "id": "954d1a53",
   "metadata": {},
   "outputs": [
    {
     "name": "stderr",
     "output_type": "stream",
     "text": [
      "100%|███████████████████████████████████████████████████████████████████████████████| 35/35 [00:00<00:00, 1643.81it/s]\n",
      "100%|███████████████████████████████████████████████████████████████████████████████| 69/69 [00:00<00:00, 2368.44it/s]"
     ]
    },
    {
     "name": "stdout",
     "output_type": "stream",
     "text": [
      "Heuristic AUC:0.982454120657644\n"
     ]
    },
    {
     "name": "stderr",
     "output_type": "stream",
     "text": [
      "\n"
     ]
    }
   ],
   "source": [
    "train_edges = np.array(train_edges)\n",
    "train_edges_reverse = np.array([train_edges[:,1], train_edges[:,0]]).transpose()\n",
    "train_edges = np.concatenate([train_edges, train_edges_reverse], axis=0)\n",
    "edge_weight = torch.ones(train_edges.shape[0], dtype=int)\n",
    "A = ssp.csr_matrix(\n",
    "    (edge_weight, (train_edges[:,0], train_edges[:,1])), shape = (g.number_of_nodes(), g.number_of_nodes())\n",
    ")\n",
    "h_predictor = common_neighbors \n",
    "val_edges = torch.tensor(val_edges)\n",
    "val_neg_edges = torch.tensor(val_neg_edges)\n",
    "pos_valid_pred = h_predictor(A, val_edges, batch_size=args.batch_size)\n",
    "neg_valid_pred = h_predictor(A, val_neg_edges, batch_size=args.batch_size)\n",
    "val_pred = torch.cat([torch.Tensor(pos_valid_pred), torch.Tensor(neg_valid_pred)])\n",
    "val_true = torch.cat([torch.ones(pos_valid_pred.shape[0], dtype=int),\n",
    "            torch.zeros(neg_valid_pred.shape[0], dtype=int)]) \n",
    "auc = roc_auc_score(val_true, val_pred)\n",
    "print(\"Heuristic AUC:{}\".format(auc)) "
   ]
  },
  {
   "cell_type": "code",
   "execution_count": 61,
   "id": "7fa15834",
   "metadata": {},
   "outputs": [
    {
     "name": "stderr",
     "output_type": "stream",
     "text": [
      "/var/folders/xc/7d4zx0z92j393tk9vzrpvly40000gp/T/ipykernel_89898/4052354998.py:5: UserWarning: To copy construct from a tensor, it is recommended to use sourceTensor.clone().detach() or sourceTensor.clone().detach().requires_grad_(True), rather than torch.tensor(sourceTensor).\n",
      "  val_edges = torch.tensor(val_edges)\n",
      "/var/folders/xc/7d4zx0z92j393tk9vzrpvly40000gp/T/ipykernel_89898/4052354998.py:6: UserWarning: To copy construct from a tensor, it is recommended to use sourceTensor.clone().detach() or sourceTensor.clone().detach().requires_grad_(True), rather than torch.tensor(sourceTensor).\n",
      "  val_neg_edges = torch.tensor(val_neg_edges)\n"
     ]
    }
   ],
   "source": [
    "train_edges = np.array(train_edges)\n",
    "train_edges_reverse = np.array([train_edges[:,1], train_edges[:,0]]).transpose()\n",
    "train_edges = np.concatenate([train_edges, train_edges_reverse], axis=0)\n",
    "train_edges = torch.tensor(train_edges)\n",
    "val_edges = torch.tensor(val_edges)\n",
    "val_neg_edges = torch.tensor(val_neg_edges)"
   ]
  },
  {
   "cell_type": "code",
   "execution_count": 62,
   "id": "ddbdec63",
   "metadata": {},
   "outputs": [
    {
     "data": {
      "text/plain": [
       "247060"
      ]
     },
     "execution_count": 62,
     "metadata": {},
     "output_type": "execute_result"
    }
   ],
   "source": [
    "train_edges.t().size(1)"
   ]
  },
  {
   "cell_type": "code",
   "execution_count": 41,
   "id": "7451f0b4",
   "metadata": {},
   "outputs": [
    {
     "name": "stdout",
     "output_type": "stream",
     "text": [
      "Graph Ajc Shape: (4039, 4039)\n"
     ]
    }
   ],
   "source": [
    "edge_index = train_edges.t()\n",
    "edge_weight = torch.ones(edge_index.size(1), dtype=int)\n",
    "A = ssp.csr_matrix(\n",
    "            (edge_weight, (edge_index[0], edge_index[1])), \n",
    "            shape=(g.number_of_nodes(),g.number_of_nodes()))\n",
    "print('Graph Ajc Shape:', A.shape)"
   ]
  },
  {
   "cell_type": "code",
   "execution_count": 23,
   "id": "c8620257",
   "metadata": {},
   "outputs": [],
   "source": [
    "pos_edge_index = train_edges.t()"
   ]
  },
  {
   "cell_type": "code",
   "execution_count": 28,
   "id": "dc1bd17b",
   "metadata": {},
   "outputs": [],
   "source": [
    "pos_edge, neg_edge = get_pos_neg_edges(pos_edge_index, g.number_of_nodes(), None)"
   ]
  },
  {
   "cell_type": "code",
   "execution_count": 44,
   "id": "6e5b6d7a",
   "metadata": {},
   "outputs": [
    {
     "data": {
      "text/plain": [
       "tensor([2126, 3370], dtype=torch.int32)"
      ]
     },
     "execution_count": 44,
     "metadata": {},
     "output_type": "execute_result"
    }
   ],
   "source": [
    "pos_edge[:,0]"
   ]
  },
  {
   "cell_type": "code",
   "execution_count": 42,
   "id": "4b55215b",
   "metadata": {},
   "outputs": [
    {
     "name": "stderr",
     "output_type": "stream",
     "text": [
      "  0%|                                                                                       | 0/10000 [00:00<?, ?it/s]/Users/shenfan/opt/miniconda3/envs/easylink/lib/python3.9/site-packages/scipy/sparse/_index.py:82: SparseEfficiencyWarning: Changing the sparsity structure of a csr_matrix is expensive. lil_matrix is more efficient.\n",
      "  self._set_intXint(row, col, x.flat[0])\n",
      "100%|██████████████████████████████████████████████████████████████████████████| 10000/10000 [00:12<00:00, 820.46it/s]\n"
     ]
    }
   ],
   "source": [
    "pos_list = extract_enclosing_subgraphs(pos_edge, A, None, 1, 2)"
   ]
  },
  {
   "cell_type": "code",
   "execution_count": 50,
   "id": "626045cb",
   "metadata": {},
   "outputs": [
    {
     "data": {
      "text/plain": [
       "tensor([1., 1., 1., 1., 1., 1., 1., 1., 1., 1., 1., 1., 1., 1., 1., 1., 1., 1.,\n",
       "        1., 1., 1., 1., 1., 1., 1., 1., 1., 1., 1.])"
      ]
     },
     "execution_count": 50,
     "metadata": {},
     "output_type": "execute_result"
    }
   ],
   "source": [
    "pos_list[0].edge_weight"
   ]
  },
  {
   "cell_type": "code",
   "execution_count": 63,
   "id": "6ffaefe4",
   "metadata": {},
   "outputs": [
    {
     "name": "stdout",
     "output_type": "stream",
     "text": [
      "Total number of parameters is 92993\n",
      "Processing dataset.\n"
     ]
    },
    {
     "name": "stderr",
     "output_type": "stream",
     "text": [
      "Processing...\n",
      "100%|████████████████████████████████████████████████████████████████████████| 247060/247060 [05:07<00:00, 804.10it/s]\n",
      "  0%|                                                                                      | 0/247060 [00:00<?, ?it/s]/Users/shenfan/opt/miniconda3/envs/easylink/lib/python3.9/site-packages/scipy/sparse/_index.py:82: SparseEfficiencyWarning: Changing the sparsity structure of a csr_matrix is expensive. lil_matrix is more efficient.\n",
      "  self._set_intXint(row, col, x.flat[0])\n",
      "100%|████████████████████████████████████████████████████████████████████████| 247060/247060 [05:56<00:00, 692.39it/s]\n",
      "Done!\n",
      "Epoch 0, Loss: 0.000738: 100%|██████████████| 1931/1931 [03:03<00:00, 10.51it/s]\n",
      "Epoch 1, Loss: 0.000702: 100%|██████████████| 1931/1931 [02:32<00:00, 12.70it/s]\n",
      "Epoch 2, Loss: 0.000686: 100%|██████████████| 1931/1931 [02:32<00:00, 12.62it/s]\n",
      "Epoch 3, Loss: 0.000677: 100%|██████████████| 1931/1931 [02:36<00:00, 12.33it/s]\n",
      "Epoch 4, Loss: 0.00067: 100%|███████████████| 1931/1931 [02:35<00:00, 12.45it/s]\n",
      "Epoch 5, Loss: 0.000665: 100%|██████████████| 1931/1931 [02:33<00:00, 12.62it/s]\n",
      "Epoch 6, Loss: 0.000662: 100%|██████████████| 1931/1931 [02:32<00:00, 12.70it/s]\n",
      "Epoch 7, Loss: 0.000659: 100%|██████████████| 1931/1931 [02:32<00:00, 12.66it/s]\n",
      "Epoch 8, Loss: 0.000657: 100%|██████████████| 1931/1931 [10:03<00:00,  3.20it/s]\n",
      "Epoch 9, Loss: 0.000655: 100%|██████████████| 1931/1931 [02:32<00:00, 12.69it/s]\n"
     ]
    },
    {
     "data": {
      "text/plain": [
       "0.0006546536139641155"
      ]
     },
     "execution_count": 63,
     "metadata": {},
     "output_type": "execute_result"
    }
   ],
   "source": [
    "# Training\n",
    "device = torch.device('cuda' if torch.cuda.is_available() else 'cpu')\n",
    "max_z = 1000\n",
    "lr = 0.001\n",
    "epochs = 10\n",
    "seal = SEAL('SAGE', False, lr, args.hidden_channels, args.num_layers, max_z, args.dropout)\n",
    "train_dataset_dir = dataset_root+'_seal'\n",
    "shutil.rmtree(train_dataset_dir, ignore_errors=True)\n",
    "train_dataset = SEALDataset(train_dataset_dir, train_edges.t(), train_edges, \n",
    "                g.number_of_nodes(), args.num_hops, args.max_nodes_per_hop, node_feat=None)\n",
    "seal.train(train_dataset, epochs, args.batch_size, device)\n"
   ]
  },
  {
   "cell_type": "code",
   "execution_count": 64,
   "id": "7ec71274",
   "metadata": {},
   "outputs": [
    {
     "name": "stderr",
     "output_type": "stream",
     "text": [
      "Processing...\n"
     ]
    },
    {
     "name": "stdout",
     "output_type": "stream",
     "text": [
      "Processing dataset.\n"
     ]
    },
    {
     "name": "stderr",
     "output_type": "stream",
     "text": [
      "100%|████████████████████████████████████████████████████████████████████████████| 8823/8823 [00:13<00:00, 671.11it/s]\n",
      "100%|██████████████████████████████████████████████████████████████████████████| 17646/17646 [00:25<00:00, 701.68it/s]\n",
      "Done!\n",
      "100%|█████████████████████████████████████████| 104/104 [00:06<00:00, 16.64it/s]"
     ]
    },
    {
     "name": "stdout",
     "output_type": "stream",
     "text": [
      "AUC:0.9803714555564406\n"
     ]
    },
    {
     "name": "stderr",
     "output_type": "stream",
     "text": [
      "\n"
     ]
    },
    {
     "data": {
      "text/plain": [
       "{'AUC': 0.9803714555564406}"
      ]
     },
     "execution_count": 64,
     "metadata": {},
     "output_type": "execute_result"
    }
   ],
   "source": [
    "# Test\n",
    "val_dataset_dir = dataset_root+\"_seal_val\"\n",
    "shutil.rmtree(val_dataset_dir, ignore_errors=True)\n",
    "val_dataset = SEALDataset(val_dataset_dir, train_edges.t(), val_edges,\n",
    "                        g.number_of_nodes(), args.num_hops, args.max_nodes_per_hop,\n",
    "                        node_feat=None, neg_edges=val_neg_edges)\n",
    "test(val_dataset, seal, args.batch_size, None)"
   ]
  }
 ],
 "metadata": {
  "kernelspec": {
   "display_name": "Python 3.9.6 64-bit ('easylink': conda)",
   "language": "python",
   "name": "python396jvsc74a57bd072ed3b7910e428d046486d5b937b70f5739ef1f69b423642ff4804f753756044"
  },
  "language_info": {
   "codemirror_mode": {
    "name": "ipython",
    "version": 3
   },
   "file_extension": ".py",
   "mimetype": "text/x-python",
   "name": "python",
   "nbconvert_exporter": "python",
   "pygments_lexer": "ipython3",
   "version": "3.9.7"
  }
 },
 "nbformat": 4,
 "nbformat_minor": 5
}
